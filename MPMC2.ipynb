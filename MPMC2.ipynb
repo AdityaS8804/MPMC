{
 "cells": [
  {
   "cell_type": "code",
   "execution_count": 6,
   "metadata": {},
   "outputs": [
    {
     "data": {
      "text/html": [
       "<div>\n",
       "<style scoped>\n",
       "    .dataframe tbody tr th:only-of-type {\n",
       "        vertical-align: middle;\n",
       "    }\n",
       "\n",
       "    .dataframe tbody tr th {\n",
       "        vertical-align: top;\n",
       "    }\n",
       "\n",
       "    .dataframe thead th {\n",
       "        text-align: right;\n",
       "    }\n",
       "</style>\n",
       "<table border=\"1\" class=\"dataframe\">\n",
       "  <thead>\n",
       "    <tr style=\"text-align: right;\">\n",
       "      <th></th>\n",
       "      <th>IR Value</th>\n",
       "      <th>Distances</th>\n",
       "      <th>Label</th>\n",
       "    </tr>\n",
       "  </thead>\n",
       "  <tbody>\n",
       "    <tr>\n",
       "      <th>0</th>\n",
       "      <td>88.0</td>\n",
       "      <td>2</td>\n",
       "      <td>PP</td>\n",
       "    </tr>\n",
       "    <tr>\n",
       "      <th>1</th>\n",
       "      <td>80.0</td>\n",
       "      <td>2</td>\n",
       "      <td>PP</td>\n",
       "    </tr>\n",
       "    <tr>\n",
       "      <th>2</th>\n",
       "      <td>89.0</td>\n",
       "      <td>2</td>\n",
       "      <td>HDPE</td>\n",
       "    </tr>\n",
       "    <tr>\n",
       "      <th>3</th>\n",
       "      <td>85.5</td>\n",
       "      <td>2</td>\n",
       "      <td>HDPE</td>\n",
       "    </tr>\n",
       "    <tr>\n",
       "      <th>4</th>\n",
       "      <td>92.0</td>\n",
       "      <td>2</td>\n",
       "      <td>HDPE</td>\n",
       "    </tr>\n",
       "  </tbody>\n",
       "</table>\n",
       "</div>"
      ],
      "text/plain": [
       "   IR Value  Distances Label\n",
       "0      88.0          2    PP\n",
       "1      80.0          2    PP\n",
       "2      89.0          2  HDPE\n",
       "3      85.5          2  HDPE\n",
       "4      92.0          2  HDPE"
      ]
     },
     "execution_count": 6,
     "metadata": {},
     "output_type": "execute_result"
    }
   ],
   "source": [
    "import numpy as np\n",
    "import pandas as pd\n",
    "df=pd.read_csv(\"C:\\\\Users\\\\adity\\\\OneDrive\\\\Desktop\\\\plastics2New.csv\")\n",
    "df.head()"
   ]
  },
  {
   "cell_type": "code",
   "execution_count": 7,
   "metadata": {},
   "outputs": [],
   "source": [
    "d={'PP':0,'HDPE':1,'PET':2 }\n",
    "df['Label']=df['Label'].map(d)"
   ]
  },
  {
   "cell_type": "code",
   "execution_count": 3,
   "metadata": {},
   "outputs": [],
   "source": [
    "z=np.array(df)"
   ]
  },
  {
   "cell_type": "code",
   "execution_count": 4,
   "metadata": {},
   "outputs": [],
   "source": [
    "np.random.shuffle(z)"
   ]
  },
  {
   "cell_type": "code",
   "execution_count": 5,
   "metadata": {},
   "outputs": [
    {
     "data": {
      "text/plain": [
       "array([[48. ,  4. ],\n",
       "       [63.5,  4. ],\n",
       "       [68.5,  4. ],\n",
       "       [31. ,  8. ],\n",
       "       [29. ,  8. ],\n",
       "       [39. ,  8. ],\n",
       "       [36.6, 10. ],\n",
       "       [47. ,  6. ],\n",
       "       [51. ,  6. ],\n",
       "       [59.5,  2. ],\n",
       "       [46.5,  6. ],\n",
       "       [68. ,  4. ],\n",
       "       [51. ,  6. ],\n",
       "       [47.5,  4. ],\n",
       "       [28. , 10. ],\n",
       "       [45.5,  4. ],\n",
       "       [67. ,  4. ],\n",
       "       [44. ,  6. ],\n",
       "       [28. ,  8. ],\n",
       "       [58. ,  2. ],\n",
       "       [55. ,  6. ],\n",
       "       [50. ,  8. ],\n",
       "       [37. ,  8. ],\n",
       "       [65.5,  4. ],\n",
       "       [38. ,  6. ],\n",
       "       [41. ,  8. ],\n",
       "       [88. ,  2. ],\n",
       "       [50. ,  8. ],\n",
       "       [57.5,  2. ],\n",
       "       [69.5,  4. ],\n",
       "       [85.5,  2. ],\n",
       "       [35.5, 10. ],\n",
       "       [27. , 10. ],\n",
       "       [27. , 10. ],\n",
       "       [39. ,  8. ],\n",
       "       [61. ,  2. ],\n",
       "       [67. ,  4. ],\n",
       "       [64. ,  4. ],\n",
       "       [49.5,  8. ],\n",
       "       [69.5,  4. ],\n",
       "       [43.5,  6. ],\n",
       "       [53. ,  6. ],\n",
       "       [43.5,  6. ],\n",
       "       [42. ,  8. ],\n",
       "       [81.5,  2. ],\n",
       "       [48. ,  6. ],\n",
       "       [35. , 10. ],\n",
       "       [50. ,  8. ],\n",
       "       [92. ,  2. ],\n",
       "       [37.5, 10. ],\n",
       "       [38.5,  8. ],\n",
       "       [34.5, 10. ],\n",
       "       [35. , 10. ],\n",
       "       [27. , 10. ],\n",
       "       [39.5,  8. ],\n",
       "       [36. , 10. ],\n",
       "       [33. , 10. ],\n",
       "       [86. ,  2. ],\n",
       "       [71. ,  4. ],\n",
       "       [83.5,  2. ],\n",
       "       [48. ,  6. ],\n",
       "       [81. ,  2. ],\n",
       "       [54. ,  6. ],\n",
       "       [87. ,  2. ],\n",
       "       [88.5,  2. ],\n",
       "       [48. ,  4. ],\n",
       "       [31. , 10. ],\n",
       "       [49. ,  8. ],\n",
       "       [69. ,  4. ],\n",
       "       [47.5,  6. ],\n",
       "       [82. ,  2. ],\n",
       "       [30. ,  8. ],\n",
       "       [51.5,  8. ],\n",
       "       [89. ,  2. ],\n",
       "       [27. , 10. ],\n",
       "       [58.5,  2. ],\n",
       "       [36. ,  6. ],\n",
       "       [48. ,  6. ],\n",
       "       [26.5, 10. ],\n",
       "       [37. , 10. ],\n",
       "       [34.5,  6. ],\n",
       "       [36. , 10. ],\n",
       "       [51. ,  8. ],\n",
       "       [31.5, 10. ],\n",
       "       [49. ,  6. ],\n",
       "       [82. ,  2. ],\n",
       "       [28. ,  8. ],\n",
       "       [60.5,  2. ],\n",
       "       [65. ,  4. ],\n",
       "       [53.5,  6. ],\n",
       "       [50. ,  6. ],\n",
       "       [80. ,  2. ],\n",
       "       [48. ,  4. ],\n",
       "       [90. ,  2. ],\n",
       "       [38. ,  8. ],\n",
       "       [84. ,  2. ],\n",
       "       [46.5,  4. ],\n",
       "       [32.5, 10. ],\n",
       "       [86.5,  2. ],\n",
       "       [60. ,  4. ],\n",
       "       [37. ,  6. ],\n",
       "       [83.5,  2. ],\n",
       "       [34.5, 10. ],\n",
       "       [38. ,  6. ],\n",
       "       [30. , 10. ],\n",
       "       [86. ,  2. ],\n",
       "       [45. ,  4. ],\n",
       "       [44. ,  4. ],\n",
       "       [27.5,  8. ],\n",
       "       [60. ,  2. ],\n",
       "       [34.5, 10. ],\n",
       "       [37.5,  8. ],\n",
       "       [49.5,  8. ],\n",
       "       [52.5,  6. ],\n",
       "       [27.5, 10. ],\n",
       "       [29. , 10. ],\n",
       "       [84. ,  2. ],\n",
       "       [29. ,  8. ],\n",
       "       [37. ,  6. ],\n",
       "       [52. ,  6. ],\n",
       "       [37.5,  6. ],\n",
       "       [64. ,  4. ],\n",
       "       [32. , 10. ],\n",
       "       [58.5,  2. ],\n",
       "       [64. ,  4. ],\n",
       "       [38. ,  8. ],\n",
       "       [39. ,  8. ],\n",
       "       [64.5,  4. ],\n",
       "       [46. ,  4. ],\n",
       "       [28.5,  8. ],\n",
       "       [49. ,  6. ],\n",
       "       [47. ,  4. ],\n",
       "       [64.5,  4. ],\n",
       "       [28.5, 10. ],\n",
       "       [65. ,  4. ],\n",
       "       [33.5, 10. ],\n",
       "       [34. , 10. ],\n",
       "       [66.5,  4. ],\n",
       "       [29. , 10. ],\n",
       "       [38. ,  6. ],\n",
       "       [87.5,  2. ],\n",
       "       [35. ,  6. ],\n",
       "       [62. ,  4. ],\n",
       "       [29.5,  8. ],\n",
       "       [57.5,  2. ],\n",
       "       [59. ,  2. ],\n",
       "       [32. , 10. ],\n",
       "       [36.5,  6. ],\n",
       "       [28. ,  8. ],\n",
       "       [41. ,  8. ]])"
      ]
     },
     "execution_count": 5,
     "metadata": {},
     "output_type": "execute_result"
    }
   ],
   "source": [
    "y=z[:,2]\n",
    "x=np.array(z[0:,:2])\n",
    "x"
   ]
  },
  {
   "cell_type": "code",
   "execution_count": 145,
   "metadata": {},
   "outputs": [],
   "source": [
    "from sklearn.preprocessing import MinMaxScaler,StandardScaler\n",
    "#scaling=MinMaxScaler(feature_range=(-1,1)).fit(x)\n",
    "#scaling=StandardScaler()\n",
    "#x=scaling.fit_transform(x)"
   ]
  },
  {
   "cell_type": "code",
   "execution_count": 146,
   "metadata": {},
   "outputs": [],
   "source": [
    "trainX=x[:int(len(x)*0.8)]\n",
    "trainY=y[:int(len(y)*0.8)]\n",
    "testX=x[int(len(x)*0.8):]\n",
    "testY=y[int(len(y)*0.8):]"
   ]
  },
  {
   "cell_type": "code",
   "execution_count": 147,
   "metadata": {},
   "outputs": [],
   "source": [
    "from sklearn import svm, datasets\n",
    "#C=2.0\n",
    "#svc=svm.SVC(kernel='linear',C=C).fit(trainX, trainY)\n",
    "svc=svm.NuSVC(gamma=\"auto\").fit(x,y)"
   ]
  },
  {
   "cell_type": "code",
   "execution_count": 149,
   "metadata": {},
   "outputs": [
    {
     "name": "stdout",
     "output_type": "stream",
     "text": [
      "Accuracy: 0.9666666666666667\n"
     ]
    }
   ],
   "source": [
    "from sklearn import metrics\n",
    "predY=svc.predict(testX)#(scaling.transform(testX))\n",
    "# Model Accuracy: how often is the classifier correct?\n",
    "print(\"Accuracy:\",metrics.accuracy_score(testY, predY))"
   ]
  },
  {
   "cell_type": "code",
   "execution_count": 150,
   "metadata": {},
   "outputs": [],
   "source": [
    "import pickle\n",
    "pickle.dump(svc, open('model2.sav','wb'))"
   ]
  },
  {
   "cell_type": "code",
   "execution_count": null,
   "metadata": {},
   "outputs": [],
   "source": []
  }
 ],
 "metadata": {
  "kernelspec": {
   "display_name": "base",
   "language": "python",
   "name": "python3"
  },
  "language_info": {
   "codemirror_mode": {
    "name": "ipython",
    "version": 3
   },
   "file_extension": ".py",
   "mimetype": "text/x-python",
   "name": "python",
   "nbconvert_exporter": "python",
   "pygments_lexer": "ipython3",
   "version": "3.9.12"
  }
 },
 "nbformat": 4,
 "nbformat_minor": 2
}
